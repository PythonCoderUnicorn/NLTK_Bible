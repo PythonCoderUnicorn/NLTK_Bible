{
 "cells": [
  {
   "cell_type": "markdown",
   "metadata": {},
   "source": [
    "# NLTK Tutorial"
   ]
  },
  {
   "cell_type": "code",
   "execution_count": 3,
   "metadata": {},
   "outputs": [],
   "source": [
    "import nltk"
   ]
  },
  {
   "cell_type": "code",
   "execution_count": 4,
   "metadata": {},
   "outputs": [
    {
     "name": "stdout",
     "output_type": "stream",
     "text": [
      "*** Introductory Examples for the NLTK Book ***\n",
      "Loading text1, ..., text9 and sent1, ..., sent9\n",
      "Type the name of the text or sentence to view it.\n",
      "Type: 'texts()' or 'sents()' to list the materials.\n",
      "text1: Moby Dick by Herman Melville 1851\n",
      "text2: Sense and Sensibility by Jane Austen 1811\n",
      "text3: The Book of Genesis\n",
      "text4: Inaugural Address Corpus\n",
      "text5: Chat Corpus\n",
      "text6: Monty Python and the Holy Grail\n",
      "text7: Wall Street Journal\n",
      "text8: Personals Corpus\n",
      "text9: The Man Who Was Thursday by G . K . Chesterton 1908\n"
     ]
    }
   ],
   "source": [
    "from nltk.book import * # Books that come with NLTK module library"
   ]
  },
  {
   "cell_type": "markdown",
   "metadata": {},
   "source": [
    "## Moby Dick book (text1)"
   ]
  },
  {
   "cell_type": "markdown",
   "metadata": {},
   "source": [
    "__Concordance__ shows the occurrence of a word with some sentence context\n",
    "\n",
    "- how many times does the word 'dick' occur in the book?"
   ]
  },
  {
   "cell_type": "code",
   "execution_count": 63,
   "metadata": {},
   "outputs": [
    {
     "name": "stdout",
     "output_type": "stream",
     "text": [
      "Displaying 25 of 84 matches:\n",
      "[ Moby Dick by Herman Melville 1851 ] ETYMOLOGY \n",
      "must be the same that some call Moby Dick .\" \" Moby Dick ?\" shouted Ahab . \" D\n",
      "e that some call Moby Dick .\" \" Moby Dick ?\" shouted Ahab . \" Do ye know the w\n",
      " Death and devils ! men , it is Moby Dick ye have seen -- Moby Dick -- Moby Di\n",
      "it is Moby Dick ye have seen -- Moby Dick -- Moby Dick !\" \" Captain Ahab ,\" sa\n",
      "ck ye have seen -- Moby Dick -- Moby Dick !\" \" Captain Ahab ,\" said Starbuck ,\n",
      " Captain Ahab , I have heard of Moby Dick -- but it was not Moby Dick that too\n",
      " of Moby Dick -- but it was not Moby Dick that took off thy leg ?\" \" Who told \n",
      " my hearties all round ; it was Moby Dick that dismasted me ; Moby Dick that b\n",
      "s Moby Dick that dismasted me ; Moby Dick that brought me to this dead stump I\n",
      "white whale ; a sharp lance for Moby Dick !\" \" God bless ye ,\" he seemed to ha\n",
      " white whale ? art not game for Moby Dick ?\" \" I am game for his crooked jaw ,\n",
      "l whaleboat ' s bow -- Death to Moby Dick ! God hunt us all , if we do not hun\n",
      "hunt us all , if we do not hunt Moby Dick to his death !\" The long , barbed st\n",
      "owels to feel fear ! CHAPTER 41 Moby Dick . I , Ishmael , was one of that crew\n",
      "ividualizing tidings concerning Moby Dick . It was hardly to be doubted , that\n",
      "on must have been no other than Moby Dick . Yet as of late the Sperm Whale fis\n",
      "ident ignorantly gave battle to Moby Dick ; such hunters , perhaps , for the m\n",
      "g and piling their terrors upon Moby Dick ; those things had gone far to shake\n",
      "ies , which eventually invested Moby Dick with new terrors unborrowed from any\n",
      "rmen recalled , in reference to Moby Dick , the earlier days of the Sperm Whal\n",
      "ngs were ready to give chase to Moby Dick ; and a still greater number who , c\n",
      " was the unearthly conceit that Moby Dick was ubiquitous ; that he had actuall\n",
      "their superstitions ; declaring Moby Dick not only ubiquitous , but immortal (\n",
      " shaped lower jaw beneath him , Moby Dick had reaped away Ahab ' s leg , as a \n"
     ]
    }
   ],
   "source": [
    "# Moby Dick \n",
    "text1.concordance('dick')"
   ]
  },
  {
   "cell_type": "markdown",
   "metadata": {},
   "source": [
    "The concordance search reveals that 'dick' is used 84 times, let's store this in a dictionary"
   ]
  },
  {
   "cell_type": "code",
   "execution_count": 64,
   "metadata": {},
   "outputs": [],
   "source": [
    "word_counts = {'dick':84}"
   ]
  },
  {
   "cell_type": "markdown",
   "metadata": {},
   "source": [
    "how many times does 'whale' occur in the book?"
   ]
  },
  {
   "cell_type": "code",
   "execution_count": 66,
   "metadata": {},
   "outputs": [
    {
     "name": "stdout",
     "output_type": "stream",
     "text": [
      "Displaying 25 of 1226 matches:\n",
      "s , and to teach them by what name a whale - fish is to be called in our tongue\n",
      "t which is not true .\" -- HACKLUYT \" WHALE . ... Sw . and Dan . HVAL . This ani\n",
      "ulted .\" -- WEBSTER ' S DICTIONARY \" WHALE . ... It is more immediately from th\n",
      "ISH . WAL , DUTCH . HWAL , SWEDISH . WHALE , ICELANDIC . WHALE , ENGLISH . BALE\n",
      "HWAL , SWEDISH . WHALE , ICELANDIC . WHALE , ENGLISH . BALEINE , FRENCH . BALLE\n",
      "least , take the higgledy - piggledy whale statements , however authentic , in \n",
      " dreadful gulf of this monster ' s ( whale ' s ) mouth , are immediately lost a\n",
      " patient Job .\" -- RABELAIS . \" This whale ' s liver was two cartloads .\" -- ST\n",
      " Touching that monstrous bulk of the whale or ork we have received nothing cert\n",
      " of oil will be extracted out of one whale .\" -- IBID . \" HISTORY OF LIFE AND D\n",
      "ise .\" -- KING HENRY . \" Very like a whale .\" -- HAMLET . \" Which to secure , n\n",
      "restless paine , Like as the wounded whale to shore flies thro ' the maine .\" -\n",
      ". OF SPERMA CETI AND THE SPERMA CETI WHALE . VIDE HIS V . E . \" Like Spencer ' \n",
      "t had been a sprat in the mouth of a whale .\" -- PILGRIM ' S PROGRESS . \" That \n",
      "EN ' S ANNUS MIRABILIS . \" While the whale is floating at the stern of the ship\n",
      "e ship called The Jonas - in - the - Whale . ... Some say the whale can ' t ope\n",
      " in - the - Whale . ... Some say the whale can ' t open his mouth , but that is\n",
      " masts to see whether they can see a whale , for the first discoverer has a duc\n",
      " for his pains . ... I was told of a whale taken near Shetland , that had above\n",
      "oneers told me that he caught once a whale in Spitzbergen that was white all ov\n",
      "2 , one eighty feet in length of the whale - bone kind came in , which ( as I w\n",
      "n master and kill this Sperma - ceti whale , for I could never hear of any of t\n",
      " . 1729 . \"... and the breath of the whale is frequendy attended with such an i\n",
      "ed with hoops and armed with ribs of whale .\" -- RAPE OF THE LOCK . \" If we com\n",
      "contemptible in the comparison . The whale is doubtless the largest animal in c\n"
     ]
    }
   ],
   "source": [
    "text1.concordance('whale')"
   ]
  },
  {
   "cell_type": "markdown",
   "metadata": {},
   "source": [
    "the word 'whale' occurs 1226 times in the Moby Dick book"
   ]
  },
  {
   "cell_type": "code",
   "execution_count": 69,
   "metadata": {},
   "outputs": [],
   "source": [
    "word_counts['whale'] = 1226"
   ]
  },
  {
   "cell_type": "markdown",
   "metadata": {},
   "source": [
    "how many times does the word 'sperm' occur?"
   ]
  },
  {
   "cell_type": "code",
   "execution_count": 71,
   "metadata": {},
   "outputs": [
    {
     "name": "stdout",
     "output_type": "stream",
     "text": [
      "Displaying 25 of 244 matches:\n",
      "KED AND FINALLY DESTROYED BY A LARGE SPERM WHALE IN THE PACIFIC OCEAN .\" BY OWE\n",
      "these fresh attacks , the infuriated Sperm Whale rolls over and over ; he rears\n",
      "ew , so important an animal ( as the Sperm Whale ) should have been so entirely\n",
      "\" -- THOMAS BEALE ' S HISTORY OF THE SPERM WHALE , 1839 . \" The Cachalot \" ( Sp\n",
      "RM WHALE , 1839 . \" The Cachalot \" ( Sperm Whale ) \" is not only better armed t\n",
      "le now ?\" \" Ay ay , sir ! A shoal of Sperm Whales ! There she blows ! There she\n",
      "he saw the distended jaws of a large Sperm Whale close to the head of the boat \n",
      "the bows of his boat was killed by a Sperm Whale on the coast of Japan , AUGUST\n",
      "w , with the long sharp teeth of the sperm whale , inserted there for pins , to\n",
      "ld append the initials S . W . F . ( Sperm Whale Fishery ) to his visiting card\n",
      " whole , will triumphantly plant the sperm whale - ship at least among the clea\n",
      "ckly recoil at the apparition of the sperm whale ' s vast tail , fanning into e\n",
      ". What then can it possibly be , but sperm oil in its unmanufactured , unpollut\n",
      "hioned from the polished bone of the sperm whale ' s jaw . \" Aye , he was disma\n",
      "ng the historians of this animal \" ( sperm whale ), says Surgeon Beale , A . D \n",
      "othing and says nothing of the great sperm whale , compared with which the Gree\n",
      "the then fabulous or utterly unknown sperm - whale , and which ignorance to thi\n",
      "nland whale is deposed ,-- the great sperm whale now reigneth ! There are only \n",
      "ich at all pretend to put the living sperm whale before you , and at the same t\n",
      "n . The original matter touching the sperm whale to be found in their volumes i\n",
      "description . As yet , however , the sperm whale , scientific or poetic , lives\n",
      " the type of the FOLIO I present the SPERM WHALE ; of the OCTAVO , the GRAMPUS \n",
      "e the following chapters :-- I . The SPERM WHALE ; II . the RIGHT WHALE ; III .\n",
      " . BOOK I . ( FOLIO ), CHAPTER I . ( SPERM WHALE ).-- This whale , among the En\n",
      "surd . Some centuries ago , when the Sperm whale was almost wholly unknown in h\n"
     ]
    }
   ],
   "source": [
    "text1.concordance('sperm') "
   ]
  },
  {
   "cell_type": "markdown",
   "metadata": {},
   "source": [
    "the word 'sperm' as in sperm whale occurs 244 times in the book"
   ]
  },
  {
   "cell_type": "code",
   "execution_count": 72,
   "metadata": {},
   "outputs": [],
   "source": [
    "word_counts['sperm'] = 244"
   ]
  },
  {
   "cell_type": "code",
   "execution_count": 73,
   "metadata": {},
   "outputs": [
    {
     "data": {
      "text/plain": [
       "{'dick': 84, 'whale': 1226, 'sperm': 244}"
      ]
     },
     "execution_count": 73,
     "metadata": {},
     "output_type": "execute_result"
    }
   ],
   "source": [
    "word_counts"
   ]
  },
  {
   "cell_type": "code",
   "execution_count": null,
   "metadata": {},
   "outputs": [],
   "source": []
  },
  {
   "cell_type": "markdown",
   "metadata": {},
   "source": [
    "# Let's parse through the Bible (for analysis)"
   ]
  },
  {
   "cell_type": "markdown",
   "metadata": {},
   "source": [
    "The Project Gutenberg has thousands of Ebooks available in variety of formats and in various languages, all for free. The Bible was selected for sheer interest reasons and to analyze word frequencies."
   ]
  },
  {
   "cell_type": "code",
   "execution_count": 74,
   "metadata": {},
   "outputs": [],
   "source": [
    "from urllib import request\n",
    "\n",
    "# The Project Gutenberg EBook of The King James Bible\n",
    "url = \"https://www.gutenberg.org/files/10/10.txt\"\n",
    "response = request.urlopen(url)\n",
    "bible= response.read().decode('utf8')"
   ]
  },
  {
   "cell_type": "code",
   "execution_count": 75,
   "metadata": {},
   "outputs": [
    {
     "data": {
      "text/plain": [
       "str"
      ]
     },
     "execution_count": 75,
     "metadata": {},
     "output_type": "execute_result"
    }
   ],
   "source": [
    "type(bible) # check the data type "
   ]
  },
  {
   "cell_type": "code",
   "execution_count": 13,
   "metadata": {},
   "outputs": [
    {
     "data": {
      "text/plain": [
       "4452652"
      ]
     },
     "execution_count": 13,
     "metadata": {},
     "output_type": "execute_result"
    }
   ],
   "source": [
    "len(bible) # find out how many words the bible "
   ]
  },
  {
   "cell_type": "code",
   "execution_count": 40,
   "metadata": {
    "scrolled": true
   },
   "outputs": [
    {
     "data": {
      "text/plain": [
       "'First Book of Moses:  Called Genesis\\r\\n\\r\\n\\r\\n1:1 In the beginning God created the heaven and the earth.\\r\\n\\r\\n1:2 And the earth was without form, and void; and darkness was upon\\r\\nthe face of the deep. And the Spirit of God moved upon the face of the\\r\\nwaters.\\r\\n\\r\\n1:3 And God said, Let there be light: and there was light.\\r\\n\\r\\n1:4 And God saw the light, that it was good: and God divided the light\\r\\nfrom the darkness.\\r\\n\\r\\n1:5 And God called the light Day, and the darkness he called Night.\\r\\nAnd the evening and the morning were the first day.\\r\\n\\r\\n1:6 And God said, Let there be a firmament in the midst of the waters,\\r\\nand let it divide the waters from the waters.\\r\\n\\r\\n1:7 And God made the firmament, and divided the wa'"
      ]
     },
     "execution_count": 40,
     "metadata": {},
     "output_type": "execute_result"
    }
   ],
   "source": [
    "bible[1293:2000] # slice out parts of the book"
   ]
  },
  {
   "cell_type": "code",
   "execution_count": 42,
   "metadata": {},
   "outputs": [],
   "source": [
    "# need to import tokenize to put words in ' '\n",
    "from nltk.tokenize import word_tokenize  \n",
    "\n",
    "tokens = word_tokenize(bible)"
   ]
  },
  {
   "cell_type": "code",
   "execution_count": 43,
   "metadata": {},
   "outputs": [
    {
     "data": {
      "text/plain": [
       "list"
      ]
     },
     "execution_count": 43,
     "metadata": {},
     "output_type": "execute_result"
    }
   ],
   "source": [
    "type(tokens) # now owrking with a list"
   ]
  },
  {
   "cell_type": "code",
   "execution_count": 44,
   "metadata": {},
   "outputs": [
    {
     "data": {
      "text/plain": [
       "952341"
      ]
     },
     "execution_count": 44,
     "metadata": {},
     "output_type": "execute_result"
    }
   ],
   "source": [
    "len(tokens) # the book length "
   ]
  },
  {
   "cell_type": "code",
   "execution_count": 46,
   "metadata": {},
   "outputs": [
    {
     "data": {
      "text/plain": [
       "['had',\n",
       " 'made',\n",
       " ';',\n",
       " 'and',\n",
       " 'he',\n",
       " 'rested',\n",
       " 'on',\n",
       " 'the',\n",
       " 'seventh',\n",
       " 'day',\n",
       " 'from',\n",
       " 'all',\n",
       " 'his',\n",
       " 'work',\n",
       " 'which',\n",
       " 'he',\n",
       " 'had',\n",
       " 'made',\n",
       " '.',\n",
       " '2:3']"
      ]
     },
     "execution_count": 46,
     "metadata": {},
     "output_type": "execute_result"
    }
   ],
   "source": [
    "tokens[1340: 1360] # slice out sentences "
   ]
  },
  {
   "cell_type": "code",
   "execution_count": 47,
   "metadata": {},
   "outputs": [],
   "source": [
    "text = nltk.Text(tokens) # convert the list to text data that is tokenized"
   ]
  },
  {
   "cell_type": "code",
   "execution_count": 48,
   "metadata": {},
   "outputs": [
    {
     "data": {
      "text/plain": [
       "nltk.text.Text"
      ]
     },
     "execution_count": 48,
     "metadata": {},
     "output_type": "execute_result"
    }
   ],
   "source": [
    "type(text)"
   ]
  },
  {
   "cell_type": "code",
   "execution_count": 50,
   "metadata": {},
   "outputs": [
    {
     "data": {
      "text/plain": [
       "['had',\n",
       " 'made',\n",
       " ';',\n",
       " 'and',\n",
       " 'he',\n",
       " 'rested',\n",
       " 'on',\n",
       " 'the',\n",
       " 'seventh',\n",
       " 'day',\n",
       " 'from',\n",
       " 'all',\n",
       " 'his',\n",
       " 'work',\n",
       " 'which',\n",
       " 'he',\n",
       " 'had',\n",
       " 'made',\n",
       " '.',\n",
       " '2:3']"
      ]
     },
     "execution_count": 50,
     "metadata": {},
     "output_type": "execute_result"
    }
   ],
   "source": [
    "text[1340:1360] # slice out same section"
   ]
  },
  {
   "cell_type": "markdown",
   "metadata": {},
   "source": [
    "## Word collocations"
   ]
  },
  {
   "cell_type": "markdown",
   "metadata": {},
   "source": [
    "__collocation__ a pair or group of words that are habitually juxtaposed: ‘strong tea’ and ‘heavy drinker’ are typical English collocations.\n",
    "\n",
    "- what are the word pair collocations of the bible in general?"
   ]
  },
  {
   "cell_type": "code",
   "execution_count": 51,
   "metadata": {},
   "outputs": [
    {
     "name": "stdout",
     "output_type": "stream",
     "text": [
      "said unto; thou shalt; thou hast; Lord GOD; Thus saith; every one; say\n",
      "unto; Thou shalt; burnt offering; every man; Jesus Christ; thou art;\n",
      "shall come; unto thee; spake unto; right hand; Holy Ghost; years old;\n",
      "pray thee; thus saith\n"
     ]
    }
   ],
   "source": [
    "text.collocations()"
   ]
  },
  {
   "cell_type": "markdown",
   "metadata": {},
   "source": [
    "- how many times does the word 'death' occur in the bible?"
   ]
  },
  {
   "cell_type": "code",
   "execution_count": 59,
   "metadata": {},
   "outputs": [
    {
     "name": "stdout",
     "output_type": "stream",
     "text": [
      "Displaying 25 of 372 matches:\n",
      " : for she said , Let me not see the death of the child . And she sat over agai\n",
      "c was comforted after his mother ’ s death . 25:1 Then again Abraham took a wif\n",
      " 25:11 And it came to pass after the death of Abraham , that God blessed his so\n",
      "n or his wife shall surely be put to death . 26:12 Then Isaac sowed in that lan\n",
      "ilistines had stopped them after the death of Abraham : and he called their nam\n",
      " I am old , I know not the day of my death : 27:3 Now therefore take , I pray t\n",
      "bless thee before the LORD before my death . 27:8 Now therefore , my son , obey\n",
      "nd that he may bless thee before his death . 27:11 And Jacob said to Rebekah hi\n",
      ", that he may take away from me this death only . 10:18 And he went out from Ph\n",
      "eth the mount shall be surely put to death : 19:13 There shall not an hand touc\n",
      "that he die , shall be surely put to death . 21:13 And if a man lie not in wait\n",
      " his mother , shall be surely put to death . 21:16 And he that stealeth a man ,\n",
      "his hand , he shall surely be put to death . 21:17 And he that curseth his fath\n",
      " his mother , shall surely be put to death . 21:18 And if men strive together ,\n",
      ", and his owner also shall be put to death . 21:30 If there be laid on him a su\n",
      " with a beast shall surely be put to death . 22:20 He that sacrificeth unto any\n",
      "t defileth it shall surely be put to death : for whosoever doeth any work there\n",
      "bath day , he shall surely be put to death . 31:16 Wherefore the children of Is\n",
      "r doeth work therein shall be put to death . 35:3 Ye shall kindle no fire throu\n",
      " the LORD spake unto Moses after the death of the two sons of Aaron , when they\n",
      " scourged ; they shall not be put to death , because she was not free . 19:21 A\n",
      "o Molech ; he shall surely be put to death : the people of the land shall stone\n",
      "or his mother shall be surely put to death : he hath cursed his father or his m\n",
      "he adulteress shall surely be put to death . 20:11 And the man that lieth with \n",
      " both of them shall surely be put to death ; their blood shall be upon them . 2\n"
     ]
    }
   ],
   "source": [
    "text.concordance('death')"
   ]
  },
  {
   "cell_type": "markdown",
   "metadata": {},
   "source": [
    "The word 'death' occurs 372 times in the bible"
   ]
  },
  {
   "cell_type": "code",
   "execution_count": 77,
   "metadata": {},
   "outputs": [],
   "source": [
    "# let's create a dictionary for word frequencies\n",
    "bible_words = {'death':372}"
   ]
  },
  {
   "cell_type": "markdown",
   "metadata": {},
   "source": [
    "- how many times does the word 'peace' occur?"
   ]
  },
  {
   "cell_type": "code",
   "execution_count": 78,
   "metadata": {},
   "outputs": [
    {
     "name": "stdout",
     "output_type": "stream",
     "text": [
      "Displaying 25 of 429 matches:\n",
      " And thou shalt go to thy fathers in peace ; thou shalt be buried in a good old\n",
      "nd the man wondering at her held his peace , to wit whether the LORD had made h\n",
      "ut good , and have sent thee away in peace : thou art now the blessed of the LO\n",
      "away , and they departed from him in peace . 26:32 And it came to pass the same\n",
      "come again to my father ’ s house in peace ; then shall the LORD be my God : 28\n",
      "le in the field : and Jacob held his peace until they were come . 34:6 And Hamo\n",
      " God shall give Pharaoh an answer of peace . 41:17 And Pharaoh said unto Joseph\n",
      "y in our sacks . 43:23 And he said , Peace be to you , fear not : your God , an\n",
      "ant ; and as for you , get you up in peace unto your father . 44:18 Then Judah \n",
      "e . And Jethro said to Moses , Go in peace . 4:19 And the LORD said unto Moses \n",
      "ght for you , and ye shall hold your peace . 14:15 And the LORD said unto Moses\n",
      "ople shall also go to their place in peace . 18:24 So Moses hearkened to the vo\n",
      "hereon thy burnt offerings , and thy peace offerings , thy sheep , and thine ox\n",
      "red burnt offerings , and sacrificed peace offerings of oxen unto the LORD . 24\n",
      " of Israel of the sacrifice of their peace offerings , even their heave offerin\n",
      "ffered burnt offerings , and brought peace offerings ; and the people sat down \n",
      "nd if his oblation be a sacrifice of peace offering , if he offer it of the her\n",
      " shall offer of the sacrifice of the peace offering an offering made by fire un\n",
      "d if his offering for a sacrifice of peace offering unto the LORD be of the flo\n",
      " shall offer of the sacrifice of the peace offering an offering made by fire un\n",
      "from the bullock of the sacrifice of peace offerings : and the priest shall bur\n",
      "tar , as the fat of the sacrifice of peace offerings : and the priest shall mak\n",
      "taken away from off the sacrifice of peace offerings ; and the priest shall bur\n",
      "taken away from the sacrifice of the peace offerings ; and the priest shall bur\n",
      "he shall burn thereon the fat of the peace offerings . 6:13 The fire shall ever\n"
     ]
    }
   ],
   "source": [
    "text.concordance('peace')"
   ]
  },
  {
   "cell_type": "markdown",
   "metadata": {},
   "source": [
    "the word 'peace' occurs 429 times"
   ]
  },
  {
   "cell_type": "code",
   "execution_count": 80,
   "metadata": {},
   "outputs": [],
   "source": [
    "bible_words['peace'] = 429"
   ]
  },
  {
   "cell_type": "markdown",
   "metadata": {},
   "source": [
    "## to save time, the dictionary is filled with words and counts"
   ]
  },
  {
   "cell_type": "code",
   "execution_count": 152,
   "metadata": {
    "scrolled": true
   },
   "outputs": [
    {
     "data": {
      "text/plain": [
       "{'death': 372,\n",
       " 'peace': 429,\n",
       " 'sinner': 21,\n",
       " 'devil': 61,\n",
       " 'virgin': 34,\n",
       " 'blood': 447,\n",
       " 'sacrifice': 218,\n",
       " 'obey': 69,\n",
       " 'jesus': 983,\n",
       " 'heaven': 583,\n",
       " 'hell': 54,\n",
       " 'lord': 7964,\n",
       " 'milk': 48,\n",
       " 'honey': 56,\n",
       " 'command': 104,\n",
       " 'unclean': 194,\n",
       " 'wine': 231,\n",
       " 'mercy': 276,\n",
       " 'forgive': 56,\n",
       " 'forget': 54,\n",
       " 'wash': 89,\n",
       " 'miracle': 10,\n",
       " 'healed': 79,\n",
       " 'man': 2735,\n",
       " 'men': 1677,\n",
       " 'spirit': 505,\n",
       " 'holy': 611,\n",
       " 'murder': 9,\n",
       " 'rape': 0,\n",
       " 'kindness': 48,\n",
       " 'pray': 313,\n",
       " 'woman': 364,\n",
       " 'women': 182,\n",
       " 'food': 55,\n",
       " 'love': 311}"
      ]
     },
     "execution_count": 152,
     "metadata": {},
     "output_type": "execute_result"
    }
   ],
   "source": [
    "bible_words"
   ]
  },
  {
   "cell_type": "markdown",
   "metadata": {},
   "source": [
    "## Convert dictionary to Numpy array in order to plot"
   ]
  },
  {
   "cell_type": "code",
   "execution_count": 179,
   "metadata": {},
   "outputs": [
    {
     "data": {
      "text/plain": [
       "array(['death', 'peace', 'sinner', 'devil', 'virgin', 'blood',\n",
       "       'sacrifice', 'obey', 'jesus', 'heaven', 'hell', 'lord', 'milk',\n",
       "       'honey', 'command', 'unclean', 'wine', 'mercy', 'forgive',\n",
       "       'forget', 'wash', 'miracle', 'healed', 'man', 'men', 'spirit',\n",
       "       'holy', 'murder', 'rape', 'kindness', 'pray', 'woman', 'women',\n",
       "       'food', 'love'], dtype='<U9')"
      ]
     },
     "execution_count": 179,
     "metadata": {},
     "output_type": "execute_result"
    }
   ],
   "source": [
    "keys = list(bible_words.keys())\n",
    "keys = np.array(keys)\n",
    "keys"
   ]
  },
  {
   "cell_type": "code",
   "execution_count": 180,
   "metadata": {},
   "outputs": [
    {
     "data": {
      "text/plain": [
       "array([ 372,  429,   21,   61,   34,  447,  218,   69,  983,  583,   54,\n",
       "       7964,   48,   56,  104,  194,  231,  276,   56,   54,   89,   10,\n",
       "         79, 2735, 1677,  505,  611,    9,    0,   48,  313,  364,  182,\n",
       "         55,  311])"
      ]
     },
     "execution_count": 180,
     "metadata": {},
     "output_type": "execute_result"
    }
   ],
   "source": [
    "values = list(bible_words.values())\n",
    "values = np.array(values)\n",
    "values"
   ]
  },
  {
   "cell_type": "code",
   "execution_count": 158,
   "metadata": {},
   "outputs": [],
   "source": [
    "import numpy as np\n",
    "import plotly.offline as pyo\n",
    "import plotly.graph_objs as go"
   ]
  },
  {
   "cell_type": "code",
   "execution_count": 182,
   "metadata": {},
   "outputs": [
    {
     "data": {
      "text/plain": [
       "'BibleWords.html'"
      ]
     },
     "execution_count": 182,
     "metadata": {},
     "output_type": "execute_result"
    }
   ],
   "source": [
    "data = [go.Scatter(x=keys, \n",
    "                   y=values, \n",
    "                   mode='markers',\n",
    "                   marker=dict(\n",
    "                       size=13,\n",
    "                       color='#990099',\n",
    "                       symbol='circle',\n",
    "                       #line={'width': 2} \n",
    "                   ) \n",
    "                  )\n",
    "       ]\n",
    "# labels, hover mode\n",
    "layout = go.Layout(title='Bible Word Frequencies',\n",
    "                 xaxis={'title':'Words'},   # \n",
    "                 yaxis= dict(title='Count'), # used in docs\n",
    "                 hovermode='closest') \n",
    "\n",
    "\n",
    "# plot the scatterplot\n",
    "#pyo.plot(data, filename='scatter.html') # basic plot params\n",
    "\n",
    "fig = go.Figure(data=data, layout=layout)\n",
    "# plot with x,y axis titles\n",
    "pyo.plot(fig, filename='BibleWords.html')"
   ]
  },
  {
   "cell_type": "markdown",
   "metadata": {},
   "source": [
    "## word counts"
   ]
  },
  {
   "cell_type": "code",
   "execution_count": 184,
   "metadata": {},
   "outputs": [
    {
     "data": {
      "text/plain": [
       "977"
      ]
     },
     "execution_count": 184,
     "metadata": {},
     "output_type": "execute_result"
    }
   ],
   "source": [
    "text.count('Jesus')"
   ]
  },
  {
   "cell_type": "code",
   "execution_count": 186,
   "metadata": {},
   "outputs": [
    {
     "data": {
      "text/plain": [
       "49"
      ]
     },
     "execution_count": 186,
     "metadata": {},
     "output_type": "execute_result"
    }
   ],
   "source": [
    "text.count('hell')"
   ]
  },
  {
   "cell_type": "code",
   "execution_count": 187,
   "metadata": {},
   "outputs": [
    {
     "data": {
      "text/plain": [
       "56"
      ]
     },
     "execution_count": 187,
     "metadata": {},
     "output_type": "execute_result"
    }
   ],
   "source": [
    "text.count('Satan')"
   ]
  },
  {
   "cell_type": "code",
   "execution_count": 188,
   "metadata": {},
   "outputs": [
    {
     "data": {
      "text/plain": [
       "578"
      ]
     },
     "execution_count": 188,
     "metadata": {},
     "output_type": "execute_result"
    }
   ],
   "source": [
    "text.count('heaven')"
   ]
  },
  {
   "cell_type": "markdown",
   "metadata": {},
   "source": [
    "## select sentence from text"
   ]
  },
  {
   "cell_type": "code",
   "execution_count": 197,
   "metadata": {},
   "outputs": [
    {
     "data": {
      "text/plain": [
       "['Call', 'me', 'Ishmael', '.']"
      ]
     },
     "execution_count": 197,
     "metadata": {},
     "output_type": "execute_result"
    }
   ],
   "source": [
    "# grab a sentence from the Moby Dick book\n",
    "# [sentence] + [book number]  \n",
    "sent1"
   ]
  },
  {
   "cell_type": "code",
   "execution_count": 198,
   "metadata": {},
   "outputs": [
    {
     "data": {
      "text/plain": [
       "['In',\n",
       " 'the',\n",
       " 'beginning',\n",
       " 'God',\n",
       " 'created',\n",
       " 'the',\n",
       " 'heaven',\n",
       " 'and',\n",
       " 'the',\n",
       " 'earth',\n",
       " '.']"
      ]
     },
     "execution_count": 198,
     "metadata": {},
     "output_type": "execute_result"
    }
   ],
   "source": [
    "# book of Genesis\n",
    "sent3"
   ]
  },
  {
   "cell_type": "markdown",
   "metadata": {},
   "source": [
    "## Join sentences"
   ]
  },
  {
   "cell_type": "code",
   "execution_count": 199,
   "metadata": {},
   "outputs": [
    {
     "data": {
      "text/plain": [
       "['In',\n",
       " 'the',\n",
       " 'beginning',\n",
       " 'God',\n",
       " 'created',\n",
       " 'the',\n",
       " 'heaven',\n",
       " 'and',\n",
       " 'the',\n",
       " 'earth',\n",
       " '.',\n",
       " 'Call',\n",
       " 'me',\n",
       " 'Ishmael',\n",
       " '.']"
      ]
     },
     "execution_count": 199,
     "metadata": {},
     "output_type": "execute_result"
    }
   ],
   "source": [
    "sent3 + sent1"
   ]
  },
  {
   "cell_type": "markdown",
   "metadata": {},
   "source": [
    "## Append a sentence with a word"
   ]
  },
  {
   "cell_type": "code",
   "execution_count": 220,
   "metadata": {},
   "outputs": [],
   "source": [
    "sent1.append('Pythonista')"
   ]
  },
  {
   "cell_type": "code",
   "execution_count": 223,
   "metadata": {},
   "outputs": [
    {
     "data": {
      "text/plain": [
       "['Call', 'me', 'Ishmael', 'Pythonista']"
      ]
     },
     "execution_count": 223,
     "metadata": {},
     "output_type": "execute_result"
    }
   ],
   "source": [
    "sent1"
   ]
  },
  {
   "cell_type": "code",
   "execution_count": 224,
   "metadata": {},
   "outputs": [],
   "source": [
    "sent1.remove('Ishmael')"
   ]
  },
  {
   "cell_type": "code",
   "execution_count": 225,
   "metadata": {},
   "outputs": [
    {
     "data": {
      "text/plain": [
       "['Call', 'me', 'Pythonista']"
      ]
     },
     "execution_count": 225,
     "metadata": {},
     "output_type": "execute_result"
    }
   ],
   "source": [
    "sent1"
   ]
  },
  {
   "cell_type": "markdown",
   "metadata": {},
   "source": [
    "## How many unique words in the bible?"
   ]
  },
  {
   "cell_type": "code",
   "execution_count": 227,
   "metadata": {},
   "outputs": [
    {
     "data": {
      "text/plain": [
       "18645"
      ]
     },
     "execution_count": 227,
     "metadata": {},
     "output_type": "execute_result"
    }
   ],
   "source": [
    "len(set(text)) # unique item vocabulary"
   ]
  },
  {
   "cell_type": "code",
   "execution_count": 228,
   "metadata": {},
   "outputs": [
    {
     "data": {
      "text/plain": [
       "952341"
      ]
     },
     "execution_count": 228,
     "metadata": {},
     "output_type": "execute_result"
    }
   ],
   "source": [
    "len(text)  # sequence of characters"
   ]
  },
  {
   "cell_type": "code",
   "execution_count": 233,
   "metadata": {},
   "outputs": [
    {
     "name": "stdout",
     "output_type": "stream",
     "text": [
      "each unique word is used 1.96 times on average\n"
     ]
    }
   ],
   "source": [
    "x = len(set(text))\n",
    "y = len(text)\n",
    "word_avg = (x / y)\n",
    "print(\"each unique word is used {:.2f} times on average\".format(word_avg *100))"
   ]
  },
  {
   "cell_type": "markdown",
   "metadata": {},
   "source": [
    "- how many times is 'love' used?"
   ]
  },
  {
   "cell_type": "code",
   "execution_count": 231,
   "metadata": {},
   "outputs": [
    {
     "data": {
      "text/plain": [
       "952341"
      ]
     },
     "execution_count": 231,
     "metadata": {},
     "output_type": "execute_result"
    }
   ],
   "source": [
    "len(text)"
   ]
  },
  {
   "cell_type": "code",
   "execution_count": 232,
   "metadata": {},
   "outputs": [
    {
     "data": {
      "text/plain": [
       "304"
      ]
     },
     "execution_count": 232,
     "metadata": {},
     "output_type": "execute_result"
    }
   ],
   "source": [
    "text.count('love')"
   ]
  },
  {
   "cell_type": "code",
   "execution_count": 235,
   "metadata": {},
   "outputs": [
    {
     "name": "stdout",
     "output_type": "stream",
     "text": [
      "the word love is used 0.03 times on average\n"
     ]
    }
   ],
   "source": [
    "x = text.count('love')\n",
    "y = len(text)\n",
    "word_avg = (x / y)\n",
    "print(\"the word love is used {:.2f} times on average\".format(word_avg *100))"
   ]
  },
  {
   "cell_type": "markdown",
   "metadata": {},
   "source": [
    "## Word Frequency Distribution"
   ]
  },
  {
   "cell_type": "code",
   "execution_count": 238,
   "metadata": {},
   "outputs": [
    {
     "data": {
      "text/plain": [
       "FreqDist({',': 70718, 'the': 62270, 'and': 38916, 'of': 34590, '.': 26322, 'to': 13475, 'And': 12846, ':': 12728, 'that': 12589, 'in': 12388, ...})"
      ]
     },
     "execution_count": 238,
     "metadata": {},
     "output_type": "execute_result"
    }
   ],
   "source": [
    "# to find the most common words in the bible, use the frequency distribution\n",
    "freq_dist = FreqDist(text)\n",
    "freq_dist"
   ]
  },
  {
   "cell_type": "markdown",
   "metadata": {},
   "source": [
    "- find out the most common 50 words used "
   ]
  },
  {
   "cell_type": "code",
   "execution_count": 240,
   "metadata": {
    "scrolled": true
   },
   "outputs": [
    {
     "data": {
      "text/plain": [
       "[(',', 70718),\n",
       " ('the', 62270),\n",
       " ('and', 38916),\n",
       " ('of', 34590),\n",
       " ('.', 26322),\n",
       " ('to', 13475),\n",
       " ('And', 12846),\n",
       " (':', 12728),\n",
       " ('that', 12589),\n",
       " ('in', 12388),\n",
       " (';', 10139),\n",
       " ('shall', 9762),\n",
       " ('he', 9667),\n",
       " ('unto', 8942),\n",
       " ('I', 8854),\n",
       " ('his', 8385),\n",
       " ('a', 8001),\n",
       " ('for', 7250),\n",
       " ('they', 6972),\n",
       " ('be', 6895),\n",
       " ('is', 6859),\n",
       " ('not', 6761),\n",
       " ('him', 6649),\n",
       " ('LORD', 6649),\n",
       " ('them', 6425),\n",
       " ('with', 6007),\n",
       " ('it', 5904),\n",
       " ('all', 5444),\n",
       " ('thou', 4890),\n",
       " ('was', 4516),\n",
       " ('thy', 4451),\n",
       " ('which', 4290),\n",
       " ('my', 4135),\n",
       " ('God', 4113),\n",
       " ('me', 4094),\n",
       " ('said', 3995),\n",
       " ('their', 3874),\n",
       " ('have', 3848),\n",
       " ('thee', 3826),\n",
       " ('will', 3813),\n",
       " ('ye', 3701),\n",
       " ('from', 3594),\n",
       " ('?', 3297),\n",
       " ('as', 3271),\n",
       " ('are', 2934),\n",
       " ('were', 2767),\n",
       " ('out', 2752),\n",
       " ('upon', 2732),\n",
       " ('man', 2721),\n",
       " ('you', 2668)]"
      ]
     },
     "execution_count": 240,
     "metadata": {},
     "output_type": "execute_result"
    }
   ],
   "source": [
    "freq_dist.most_common(50)"
   ]
  },
  {
   "cell_type": "code",
   "execution_count": 241,
   "metadata": {},
   "outputs": [
    {
     "data": {
      "text/plain": [
       "272"
      ]
     },
     "execution_count": 241,
     "metadata": {},
     "output_type": "execute_result"
    }
   ],
   "source": [
    "freq_dist['mercy']"
   ]
  },
  {
   "cell_type": "markdown",
   "metadata": {},
   "source": [
    "## Search for long words in text"
   ]
  },
  {
   "cell_type": "code",
   "execution_count": 245,
   "metadata": {},
   "outputs": [
    {
     "data": {
      "text/plain": [
       "['//gutenberg.org/license',\n",
       " '//pglaf.org',\n",
       " '//pglaf.org/donate',\n",
       " '//pglaf.org/fundraising',\n",
       " '//www.gutenberg.org',\n",
       " '//www.gutenberg.org/1/10/',\n",
       " '//www.gutenberg.org/files/10900/10900-h/10900-h.htm',\n",
       " '//www.pglaf.org',\n",
       " 'ABOMINATIONS',\n",
       " 'Abelbethmaachah',\n",
       " 'Abelmeholah',\n",
       " 'Abelmizraim',\n",
       " 'Abelshittim',\n",
       " 'Adrammelech',\n",
       " 'Adramyttium',\n",
       " 'Alexandrians',\n",
       " 'Allonbachuth',\n",
       " 'Almondiblathaim',\n",
       " 'Ammishaddai',\n",
       " 'Anethothite',\n",
       " 'Apharsachites',\n",
       " 'Apharsathchites',\n",
       " 'Aristarchus',\n",
       " 'Aristobulus',\n",
       " 'Ashdothites',\n",
       " 'Ashdothpisgah',\n",
       " 'Ashterathite',\n",
       " 'Atarothadar',\n",
       " 'Atarothaddar',\n",
       " 'Aznothtabor',\n",
       " 'Baalathbeer',\n",
       " 'Baalperazim',\n",
       " 'Baalshalisha',\n",
       " 'Babylonians',\n",
       " 'Bartholomew',\n",
       " 'Bashanhavothjair',\n",
       " 'Beerlahairoi',\n",
       " 'Beerothites',\n",
       " 'Belteshazzar',\n",
       " 'Berodachbaladan',\n",
       " 'Bethazmaveth',\n",
       " 'Bethbaalmeon',\n",
       " 'Bethdiblathaim',\n",
       " 'Bethhaccerem',\n",
       " 'Bethjeshimoth',\n",
       " 'Bethjesimoth',\n",
       " 'Bethlebaoth',\n",
       " 'Bethlehemite',\n",
       " 'Bethlehemjudah',\n",
       " 'Bethmaachah',\n",
       " 'Bethmarcaboth',\n",
       " 'Bethshemesh',\n",
       " 'Bethshemite',\n",
       " 'Bethshittah',\n",
       " 'Bethtappuah',\n",
       " 'CONSEQUENTIAL',\n",
       " 'Calebephratah',\n",
       " 'Canaanitess',\n",
       " 'Canaanitish',\n",
       " 'Carmelitess',\n",
       " 'Charchemish',\n",
       " 'Chedorlaomer',\n",
       " 'Chepharhaammonai',\n",
       " 'Cherethites',\n",
       " 'Chislothtabor',\n",
       " 'Chushanrishathaim',\n",
       " 'Circumcised',\n",
       " 'Circumcision',\n",
       " 'Considerest',\n",
       " 'Contributions',\n",
       " 'Corinthians',\n",
       " 'DISTRIBUTOR',\n",
       " 'Destruction',\n",
       " 'Deuteronomy',\n",
       " 'Distributing',\n",
       " 'Ecclesiastes',\n",
       " 'EleloheIsrael',\n",
       " 'Elonbethhanan',\n",
       " 'Endeavouring',\n",
       " 'Epaphroditus',\n",
       " 'Ephesdammim',\n",
       " 'Ephraimites',\n",
       " 'Ephrathites',\n",
       " 'Eshkalonites',\n",
       " 'Eshtaulites',\n",
       " 'Evilmerodach',\n",
       " 'Fearfulness',\n",
       " 'Foolishness',\n",
       " 'Frowardness',\n",
       " 'Furthermore',\n",
       " 'GUTENBERG-tm',\n",
       " 'Gederathite',\n",
       " 'Gederothaim',\n",
       " 'Gershonites',\n",
       " 'Girgashites',\n",
       " 'Gittahhepher',\n",
       " 'Gutenberg-tm',\n",
       " \"Gutenberg-tm's\",\n",
       " 'Haahashtari',\n",
       " 'Hadadrimmon',\n",
       " 'Hamathzobah',\n",
       " 'Hammoleketh',\n",
       " 'Hazargaddah',\n",
       " 'Hazarhatticon',\n",
       " 'Hazarmaveth',\n",
       " 'Hazazontamar',\n",
       " 'Hazelelponi',\n",
       " 'Hazezontamar',\n",
       " 'Helkathhazzurim',\n",
       " 'Horhagidgad',\n",
       " 'Immediately',\n",
       " 'Information',\n",
       " 'International',\n",
       " 'Ishmaelites',\n",
       " 'Ishmeelites',\n",
       " 'Israelitish',\n",
       " 'Jaareoregim',\n",
       " 'Jabeshgilead',\n",
       " 'Jahleelites',\n",
       " 'Jahzeelites',\n",
       " 'Jashubilehem',\n",
       " 'Jeberechiah',\n",
       " 'Jegarsahadutha',\n",
       " 'Jehoshabeath',\n",
       " 'Jehoshaphat',\n",
       " 'Jehovahjireh',\n",
       " 'Jehovahnissi',\n",
       " 'Jehovahshalom',\n",
       " 'Jerahmeelites',\n",
       " 'Jerubbesheth',\n",
       " 'Jezreelitess',\n",
       " 'Joshbekashah',\n",
       " 'Jushabhesed',\n",
       " 'Kadeshbarnea',\n",
       " 'Kedeshnaphtali',\n",
       " 'Kerenhappuch',\n",
       " 'Kibrothhattaavah',\n",
       " 'Kirharaseth',\n",
       " 'Kirhareseth',\n",
       " 'Kirjatharba',\n",
       " 'Kirjatharim',\n",
       " 'Kirjathbaal',\n",
       " 'Kirjathhuzoth',\n",
       " 'Kirjathjearim',\n",
       " 'Kirjathsannah',\n",
       " 'Kirjathsepher',\n",
       " 'Lamentations',\n",
       " 'MERCHANTIBILITY',\n",
       " 'Maachathite',\n",
       " 'Maachathites',\n",
       " 'Maalehacrabbim',\n",
       " 'Machnadebai',\n",
       " 'Magormissabib',\n",
       " 'Mahershalalhashbaz',\n",
       " 'Malchielites',\n",
       " 'Manahethites',\n",
       " 'Mecherathite',\n",
       " 'Meholathite',\n",
       " 'Melchisedec',\n",
       " 'Melchizedek',\n",
       " 'Mephibosheth',\n",
       " 'MeribahKadesh',\n",
       " 'Merodachbaladan',\n",
       " 'Meronothite',\n",
       " 'Meshelemiah',\n",
       " 'Meshezabeel',\n",
       " 'Meshillemith',\n",
       " 'Meshillemoth',\n",
       " 'Meshullemeth',\n",
       " 'Mesopotamia',\n",
       " 'Methegammah',\n",
       " 'Midianitish',\n",
       " 'Misrephothmaim',\n",
       " 'Mississippi',\n",
       " 'Moreshethgath',\n",
       " 'Nathanmelech',\n",
       " 'Nebuchadnezzar',\n",
       " 'Nebuchadrezzar',\n",
       " 'Nebushasban',\n",
       " 'Nebuzaradan',\n",
       " 'Nephishesim',\n",
       " 'Nergalsharezer',\n",
       " 'Netophathite',\n",
       " 'Netophathites',\n",
       " 'Nevertheless',\n",
       " 'Nicolaitanes',\n",
       " 'Notwithstanding',\n",
       " 'Onesiphorus',\n",
       " 'POSSIBILITY',\n",
       " 'Parshandatha',\n",
       " 'Peradventure',\n",
       " 'Persecutions',\n",
       " 'Pharaohhophra',\n",
       " 'Pharaohnecho',\n",
       " 'Pharaohnechoh',\n",
       " 'Philadelphia',\n",
       " 'Philippians',\n",
       " 'Philistines',\n",
       " 'Pirathonite',\n",
       " 'Presumptuous',\n",
       " 'REPLACEMENT',\n",
       " 'RIGHTEOUSNESS',\n",
       " 'Ramathaimzophim',\n",
       " 'Ramathmizpeh',\n",
       " 'Ramothgilead',\n",
       " 'Redistributing',\n",
       " 'Redistribution',\n",
       " 'Regemmelech',\n",
       " 'Remembering',\n",
       " 'Remmonmethoar',\n",
       " 'Replacement',\n",
       " 'Righteousness',\n",
       " 'Rimmonparez',\n",
       " 'Romamtiezer',\n",
       " 'Samothracia',\n",
       " 'Selahammahlekoth',\n",
       " 'Sennacherib',\n",
       " 'Sepharvites',\n",
       " 'Shaalbonite',\n",
       " 'Shallecheth',\n",
       " 'Shalmaneser',\n",
       " 'Shearjashub',\n",
       " 'Shechemites',\n",
       " 'Shemidaites',\n",
       " 'Shemiramoth',\n",
       " 'Shephathiah',\n",
       " 'Sheshbazzar',\n",
       " 'Shetharboznai',\n",
       " 'Shihorlibnath',\n",
       " 'Shillemites',\n",
       " 'Shimeathites',\n",
       " 'Shimronites',\n",
       " 'Shimronmeron',\n",
       " 'Shumathites',\n",
       " 'Shuphamites',\n",
       " 'Shuthalhites',\n",
       " 'Slothfulness',\n",
       " 'Storehouses',\n",
       " 'Strengthened',\n",
       " 'Succothbenoth',\n",
       " 'Suchathites',\n",
       " 'Susanchites',\n",
       " 'Syriadamascus',\n",
       " 'Syriamaachah',\n",
       " 'Syrophenician',\n",
       " 'Taanathshiloh',\n",
       " 'Tahtimhodshi',\n",
       " 'Tehaphnehes',\n",
       " 'Thessalonians',\n",
       " 'Thessalonica',\n",
       " 'Tiglathpileser',\n",
       " 'Tilgathpilneser',\n",
       " 'Timnathheres',\n",
       " 'Timnathserah',\n",
       " 'Tobadonijah',\n",
       " 'Trachonitis',\n",
       " 'Tribulation',\n",
       " 'Uncircumcision',\n",
       " 'Understandest',\n",
       " 'Understanding',\n",
       " 'Uzzensherah',\n",
       " 'Wheresoever',\n",
       " 'Wherewithal',\n",
       " 'Whithersoever',\n",
       " 'Zaphnathpaaneah',\n",
       " 'Zareathites',\n",
       " 'Zarethshahar',\n",
       " 'Zebulunites',\n",
       " 'Zurishaddai',\n",
       " 'abomination',\n",
       " 'abominations',\n",
       " 'acceptation',\n",
       " 'accompanied',\n",
       " 'accompanying',\n",
       " 'accomplished',\n",
       " 'accomplishing',\n",
       " 'accomplishment',\n",
       " 'accordingly',\n",
       " 'acknowledge',\n",
       " 'acknowledged',\n",
       " 'acknowledgement',\n",
       " 'acknowledgeth',\n",
       " 'acknowledging',\n",
       " 'acquaintance',\n",
       " 'acquainting',\n",
       " 'administered',\n",
       " 'administration',\n",
       " 'administrations',\n",
       " 'admonishing',\n",
       " 'adulteresses',\n",
       " 'advantageth',\n",
       " 'adversaries',\n",
       " 'adversities',\n",
       " 'affectionately',\n",
       " 'affectioned',\n",
       " 'afflictions',\n",
       " 'ambassadors',\n",
       " 'ambushments',\n",
       " 'antichrists',\n",
       " 'apostleship',\n",
       " 'apothecaries',\n",
       " 'appearances',\n",
       " 'appertained',\n",
       " 'appertaineth',\n",
       " 'appointment',\n",
       " 'apprehended',\n",
       " 'approacheth',\n",
       " 'approaching',\n",
       " 'armourbearer',\n",
       " 'astonishment',\n",
       " 'astrologers',\n",
       " 'attentively',\n",
       " 'authorities',\n",
       " 'backbitings',\n",
       " 'backsliding',\n",
       " 'backslidings',\n",
       " 'banquetings',\n",
       " 'battlements',\n",
       " 'benefactors',\n",
       " 'benevolence',\n",
       " 'blasphemers',\n",
       " 'blasphemest',\n",
       " 'blasphemeth',\n",
       " 'blasphemies',\n",
       " 'blaspheming',\n",
       " 'blasphemous',\n",
       " 'blasphemously',\n",
       " 'blessedness',\n",
       " 'blindfolded',\n",
       " 'bloodguiltiness',\n",
       " 'bloodthirsty',\n",
       " 'bondservant',\n",
       " 'bondservice',\n",
       " 'bountifully',\n",
       " 'bountifulness',\n",
       " 'breastplate',\n",
       " 'breastplates',\n",
       " 'bridechamber',\n",
       " 'brigandines',\n",
       " 'brokenfooted',\n",
       " 'brokenhanded',\n",
       " 'brokenhearted',\n",
       " 'brotherhood',\n",
       " 'buryingplace',\n",
       " 'candlestick',\n",
       " 'candlesticks',\n",
       " 'carefulness',\n",
       " 'caterpiller',\n",
       " 'caterpillers',\n",
       " 'chalkstones',\n",
       " 'challengeth',\n",
       " 'chamberlain',\n",
       " 'chamberlains',\n",
       " 'chastisement',\n",
       " 'cheerfulness',\n",
       " 'childbearing',\n",
       " 'chrysoprasus',\n",
       " 'circumcised',\n",
       " 'circumcising',\n",
       " 'circumcision',\n",
       " 'circumspect',\n",
       " 'circumspectly',\n",
       " 'clovenfooted',\n",
       " 'cockatrices',\n",
       " 'cockcrowing',\n",
       " 'cogitations',\n",
       " 'comfortable',\n",
       " 'comfortably',\n",
       " 'comfortedst',\n",
       " 'comfortless',\n",
       " 'commandedst',\n",
       " 'commandment',\n",
       " 'commandments',\n",
       " 'commendation',\n",
       " 'commissions',\n",
       " 'commonwealth',\n",
       " 'communicate',\n",
       " 'communicated',\n",
       " 'communication',\n",
       " 'communications',\n",
       " 'compassions',\n",
       " 'compilation',\n",
       " 'complainers',\n",
       " 'complaining',\n",
       " 'composition',\n",
       " 'compoundeth',\n",
       " 'comprehended',\n",
       " 'concupiscence',\n",
       " 'condemnation',\n",
       " 'confectionaries',\n",
       " 'confederacy',\n",
       " 'confederate',\n",
       " 'confidences',\n",
       " 'confidently',\n",
       " 'confirmation',\n",
       " 'confiscation',\n",
       " 'conformable',\n",
       " 'congratulate',\n",
       " 'congregation',\n",
       " 'congregations',\n",
       " 'consciences',\n",
       " 'consecrated',\n",
       " 'consecration',\n",
       " 'consecrations',\n",
       " 'consentedst',\n",
       " 'considerable',\n",
       " 'considerest',\n",
       " 'considereth',\n",
       " 'considering',\n",
       " 'consolation',\n",
       " 'consolations',\n",
       " 'conspirators',\n",
       " 'constellations',\n",
       " 'constrained',\n",
       " 'constraineth',\n",
       " 'consultation',\n",
       " 'consummation',\n",
       " 'consumption',\n",
       " 'contemptible',\n",
       " 'contemptuously',\n",
       " 'contentions',\n",
       " 'contentious',\n",
       " 'contentment',\n",
       " 'continually',\n",
       " 'continuance',\n",
       " 'contradicting',\n",
       " 'contradiction',\n",
       " 'contrariwise',\n",
       " 'contribution',\n",
       " 'contributions',\n",
       " 'controversies',\n",
       " 'controversy',\n",
       " 'conveniently',\n",
       " 'conversation',\n",
       " 'convocation',\n",
       " 'convocations',\n",
       " 'coppersmith',\n",
       " 'corporation',\n",
       " 'corruptible',\n",
       " 'counsellors',\n",
       " 'countenance',\n",
       " 'countenances',\n",
       " 'countervail',\n",
       " 'courageously',\n",
       " 'courteously',\n",
       " 'covenantbreakers',\n",
       " 'covetousness',\n",
       " 'deceitfully',\n",
       " 'deceitfulness',\n",
       " 'deceivableness',\n",
       " 'declaration',\n",
       " 'delicateness',\n",
       " 'deliciously',\n",
       " 'delightsome',\n",
       " 'deliverance',\n",
       " 'deliverances',\n",
       " 'deliveredst',\n",
       " 'demonstration',\n",
       " 'description',\n",
       " 'desolations',\n",
       " 'desperately',\n",
       " 'despitefully',\n",
       " 'destruction',\n",
       " 'destructions',\n",
       " 'determinate',\n",
       " 'determination',\n",
       " 'differences',\n",
       " 'diminishing',\n",
       " 'disannulled',\n",
       " 'disannulleth',\n",
       " 'disannulling',\n",
       " 'disappointed',\n",
       " 'disappointeth',\n",
       " 'disclaimers',\n",
       " 'discomfited',\n",
       " 'discomfiture',\n",
       " 'discontented',\n",
       " 'discontinue',\n",
       " 'discouraged',\n",
       " 'discovereth',\n",
       " 'discovering',\n",
       " 'dishonourest',\n",
       " 'dishonoureth',\n",
       " 'disobedience',\n",
       " 'disobedient',\n",
       " 'dispensation',\n",
       " 'dispersions',\n",
       " 'displeasure',\n",
       " 'disposition',\n",
       " 'dispossessed',\n",
       " 'disputation',\n",
       " 'disputations',\n",
       " 'disquietness',\n",
       " 'dissemblers',\n",
       " 'dissembleth',\n",
       " 'dissimulation',\n",
       " 'distinction',\n",
       " 'distraction',\n",
       " 'distributed',\n",
       " 'distributeth',\n",
       " 'distributing',\n",
       " 'distribution',\n",
       " 'diversities',\n",
       " 'divinations',\n",
       " 'divorcement',\n",
       " 'doorkeepers',\n",
       " 'doubletongued',\n",
       " 'downloading',\n",
       " 'downsitting',\n",
       " 'dromedaries',\n",
       " 'drunkenness',\n",
       " 'dwellingplace',\n",
       " 'dwellingplaces',\n",
       " 'earthquakes',\n",
       " 'edification',\n",
       " 'educational',\n",
       " 'effectually',\n",
       " 'electronically',\n",
       " 'emboldeneth',\n",
       " 'embroiderer',\n",
       " 'enchantment',\n",
       " 'enchantments',\n",
       " 'encountered',\n",
       " 'endeavoured',\n",
       " 'enlargement',\n",
       " 'enlightened',\n",
       " 'enlightening',\n",
       " 'entertained',\n",
       " 'established',\n",
       " 'establisheth',\n",
       " 'establishment',\n",
       " 'estimations',\n",
       " 'evangelists',\n",
       " 'eveningtide',\n",
       " 'everlasting',\n",
       " 'evilfavouredness',\n",
       " 'examination',\n",
       " 'exceedingly',\n",
       " 'executioner',\n",
       " 'exhortation',\n",
       " 'expectation',\n",
       " 'explanation',\n",
       " 'extortioner',\n",
       " 'extortioners',\n",
       " 'eyewitnesses',\n",
       " 'fainthearted',\n",
       " 'faithfulness',\n",
       " 'fearfulness',\n",
       " 'feebleminded',\n",
       " 'feedingplace',\n",
       " 'fellow-prisoners',\n",
       " 'fellowcitizens',\n",
       " 'fellowdisciples',\n",
       " 'fellowheirs',\n",
       " 'fellowhelper',\n",
       " 'fellowhelpers',\n",
       " 'fellowlabourer',\n",
       " 'fellowlabourers',\n",
       " 'fellowprisoner',\n",
       " 'fellowservant',\n",
       " 'fellowservants',\n",
       " 'fellowsoldier',\n",
       " 'fellowworkers',\n",
       " 'firstbegotten',\n",
       " 'firstfruits',\n",
       " 'flourisheth',\n",
       " 'flourishing',\n",
       " 'foolishness',\n",
       " 'forbearance',\n",
       " 'forefathers',\n",
       " 'foreknowledge',\n",
       " 'foreordained',\n",
       " 'forgetfulness',\n",
       " 'forgiveness',\n",
       " 'forgivenesses',\n",
       " 'fornication',\n",
       " 'fornications',\n",
       " 'fornicators',\n",
       " 'forwardness',\n",
       " 'foundations',\n",
       " 'frankincense',\n",
       " 'frowardness',\n",
       " 'frustrateth',\n",
       " 'furtherance',\n",
       " 'furthermore',\n",
       " 'gazingstock',\n",
       " 'genealogies',\n",
       " 'generations',\n",
       " 'governments',\n",
       " 'grandmother',\n",
       " 'grapegatherer',\n",
       " 'grapegatherers',\n",
       " 'grapegleanings',\n",
       " 'grasshopper',\n",
       " 'grasshoppers',\n",
       " 'graveclothes',\n",
       " 'grievousness',\n",
       " 'guestchamber',\n",
       " 'habitations',\n",
       " 'handbreadth',\n",
       " 'handkerchiefs',\n",
       " 'handmaidens',\n",
       " 'handwriting',\n",
       " 'hardhearted',\n",
       " 'haughtiness',\n",
       " 'hearkenedst',\n",
       " 'henceforward',\n",
       " 'hospitality',\n",
       " 'householder',\n",
       " 'humiliation',\n",
       " 'hundredfold',\n",
       " 'hungerbitten',\n",
       " 'hypocrisies',\n",
       " 'hypocritical',\n",
       " 'identification',\n",
       " 'illuminated',\n",
       " 'imagination',\n",
       " 'imaginations',\n",
       " 'immediately',\n",
       " 'immortality',\n",
       " 'immutability',\n",
       " 'importunity',\n",
       " 'impoverished',\n",
       " 'imprisonment',\n",
       " 'imprisonments',\n",
       " 'incontinency',\n",
       " 'incontinent',\n",
       " 'incorruptible',\n",
       " 'incorruption',\n",
       " 'indignation',\n",
       " 'industrious',\n",
       " 'inexcusable',\n",
       " 'infirmities',\n",
       " 'inflammation',\n",
       " 'information',\n",
       " 'infringement',\n",
       " 'ingathering',\n",
       " 'inhabitants',\n",
       " 'inheritance',\n",
       " 'inheritances',\n",
       " 'innumerable',\n",
       " 'inquisition',\n",
       " 'inscription',\n",
       " 'inspiration',\n",
       " 'instructers',\n",
       " 'instructing',\n",
       " 'instruction',\n",
       " 'instruments',\n",
       " 'insurrection',\n",
       " 'intellectual',\n",
       " 'intelligence',\n",
       " 'intercession',\n",
       " 'intercessions',\n",
       " 'intercessor',\n",
       " 'intermeddle',\n",
       " 'intermeddleth',\n",
       " 'intermission',\n",
       " 'interpretation',\n",
       " 'interpretations',\n",
       " 'interpreted',\n",
       " 'interpreter',\n",
       " 'interpreting',\n",
       " 'joint-heirs',\n",
       " 'journeyings',\n",
       " 'jurisdiction',\n",
       " 'justification',\n",
       " 'kneadingtroughs',\n",
       " 'lamentation',\n",
       " 'lamentations',\n",
       " 'languisheth',\n",
       " 'languishing',\n",
       " 'lasciviousness',\n",
       " 'leanfleshed',\n",
       " 'lengthening',\n",
       " 'lieutenants',\n",
       " 'longsuffering',\n",
       " 'lookingglasses',\n",
       " 'lovingkindness',\n",
       " 'lovingkindnesses',\n",
       " 'magistrates',\n",
       " 'magnificence',\n",
       " 'maidservant',\n",
       " 'maidservants',\n",
       " 'maintainest',\n",
       " 'maintaining',\n",
       " 'maintenance',\n",
       " 'malefactors',\n",
       " 'maliciousness',\n",
       " 'manifestation',\n",
       " 'manservants',\n",
       " 'marketplace',\n",
       " 'marketplaces',\n",
       " 'marvellously',\n",
       " 'marvelously',\n",
       " 'masterbuilder',\n",
       " 'menchildren',\n",
       " 'menpleasers',\n",
       " 'menservants',\n",
       " 'menstealers',\n",
       " 'merchandise',\n",
       " 'merchantmen',\n",
       " 'merryhearted',\n",
       " 'middle-aged',\n",
       " 'ministereth',\n",
       " 'ministering',\n",
       " 'ministration',\n",
       " 'miscarrying',\n",
       " 'mischievous',\n",
       " 'modification',\n",
       " 'moneychangers',\n",
       " 'multipliedst',\n",
       " 'multiplieth',\n",
       " 'multiplying',\n",
       " 'naughtiness',\n",
       " 'necessarily',\n",
       " 'necessities',\n",
       " 'necromancer',\n",
       " 'nevertheless',\n",
       " 'neverthless',\n",
       " 'nonproprietary',\n",
       " 'notwithstanding',\n",
       " 'nourishment',\n",
       " 'observation',\n",
       " 'offscouring',\n",
       " 'opportunities',\n",
       " 'opportunity',\n",
       " 'oppositions',\n",
       " 'oppressions',\n",
       " 'outstretched',\n",
       " 'overcharged',\n",
       " 'overfloweth',\n",
       " 'overflowing',\n",
       " 'overrunning',\n",
       " 'overshadowed',\n",
       " 'overspreading',\n",
       " 'overthroweth',\n",
       " 'overturneth',\n",
       " 'overwhelmed',\n",
       " 'painfulness',\n",
       " 'particularly',\n",
       " 'peacemakers',\n",
       " 'peradventure',\n",
       " 'perfectness',\n",
       " 'performance',\n",
       " 'performances',\n",
       " 'perpetually',\n",
       " 'persecutest',\n",
       " 'persecuting',\n",
       " 'persecution',\n",
       " 'persecutions',\n",
       " 'persecutors',\n",
       " 'perseverance',\n",
       " 'perverseness',\n",
       " 'pestilences',\n",
       " 'philosophers',\n",
       " 'phylacteries',\n",
       " 'pleasantness',\n",
       " 'plenteousness',\n",
       " 'plentifully',\n",
       " 'pomegranate',\n",
       " 'pomegranates',\n",
       " 'possessions',\n",
       " 'practically',\n",
       " 'predestinate',\n",
       " 'predestinated',\n",
       " 'preeminence',\n",
       " 'premeditate',\n",
       " 'preparation',\n",
       " 'preparations',\n",
       " 'prescribing',\n",
       " 'presumptuous',\n",
       " 'presumptuously',\n",
       " 'principalities',\n",
       " 'principality',\n",
       " 'proclaimeth',\n",
       " 'proclaiming',\n",
       " 'proclamation',\n",
       " 'profaneness',\n",
       " 'progenitors',\n",
       " 'prognosticators',\n",
       " 'prohibition',\n",
       " 'prominently',\n",
       " 'pronouncing',\n",
       " 'prophesieth',\n",
       " 'prophesying',\n",
       " 'prophesyings',\n",
       " 'propitiation',\n",
       " 'proprietary',\n",
       " 'prosperously',\n",
       " 'provocation',\n",
       " 'provocations',\n",
       " 'pruninghooks',\n",
       " 'punishments',\n",
       " 'purification',\n",
       " 'purifications',\n",
       " 'quaternions',\n",
       " 'questioning',\n",
       " 'recommended',\n",
       " 'recompences',\n",
       " 'recompensed',\n",
       " 'recompensest',\n",
       " 'recompensing',\n",
       " 'reconciliation',\n",
       " 'reconciling',\n",
       " 'redistribute',\n",
       " 'redistributing',\n",
       " 'redistribution',\n",
       " 'reformation',\n",
       " 'regeneration',\n",
       " 'rememberest',\n",
       " 'remembereth',\n",
       " 'remembrance',\n",
       " 'remembrances',\n",
       " 'repetitions',\n",
       " 'replacement',\n",
       " 'replenished',\n",
       " 'representations',\n",
       " 'reproachest',\n",
       " 'reproacheth',\n",
       " 'reproachfully',\n",
       " 'requirements',\n",
       " 'resemblance',\n",
       " 'restingplace',\n",
       " 'restitution',\n",
       " 'restrainest',\n",
       " 'restrictions',\n",
       " 'resurrection',\n",
       " 'revelations',\n",
       " 'righteously',\n",
       " 'righteousness',\n",
       " 'righteousnesses',\n",
       " 'ringstraked',\n",
       " 'sabachthani',\n",
       " 'sackclothes',\n",
       " 'sacrificedst',\n",
       " 'sacrificeth',\n",
       " 'sacrificing',\n",
       " 'salutations',\n",
       " 'sanctification',\n",
       " 'sanctifieth',\n",
       " 'sanctuaries',\n",
       " 'satisfaction',\n",
       " 'schoolmaster',\n",
       " 'secondarily',\n",
       " 'seventeenth',\n",
       " 'shamefacedness',\n",
       " 'shamelessly',\n",
       " 'sheepmaster',\n",
       " 'sheepshearers',\n",
       " 'shoelatchet',\n",
       " 'shoulderpieces',\n",
       " 'signification',\n",
       " 'silverlings',\n",
       " 'silversmith',\n",
       " 'similitudes',\n",
       " 'skilfulness',\n",
       " 'slanderously',\n",
       " 'slingstones',\n",
       " 'slothfulness',\n",
       " 'slumberings',\n",
       " 'snuffdishes',\n",
       " 'solemnities',\n",
       " 'solicitation',\n",
       " 'soothsayers',\n",
       " 'soothsaying',\n",
       " 'spiritually',\n",
       " 'stablisheth',\n",
       " 'standard-bearer',\n",
       " 'stedfastness',\n",
       " 'stewardship',\n",
       " 'stiffhearted',\n",
       " 'stiffnecked',\n",
       " 'stonesquarers',\n",
       " 'storehouses',\n",
       " 'stouthearted',\n",
       " 'straightway',\n",
       " 'straiteneth',\n",
       " 'strengthened',\n",
       " 'strengthenedst',\n",
       " 'strengtheneth',\n",
       " 'strengthening',\n",
       " 'stretchedst',\n",
       " 'stubbornness',\n",
       " 'stumbling-block',\n",
       " 'stumblingblock',\n",
       " 'stumblingblocks',\n",
       " 'stumblingstone',\n",
       " 'sufficiency',\n",
       " 'sufficiently',\n",
       " 'sumptuously',\n",
       " 'superfluity',\n",
       " 'superfluous',\n",
       " 'superscription',\n",
       " 'superstition',\n",
       " 'superstitious',\n",
       " 'supplication',\n",
       " 'supplications',\n",
       " 'swaddlingband',\n",
       " 'sweetsmelling',\n",
       " 'tabernacles',\n",
       " 'taskmasters',\n",
       " 'tempestuous',\n",
       " 'temptations',\n",
       " 'tenderhearted',\n",
       " 'terrestrial',\n",
       " 'terribleness',\n",
       " 'testifiedst',\n",
       " 'testimonies',\n",
       " 'thankfulness',\n",
       " 'thanksgiving',\n",
       " 'thanksgivings',\n",
       " 'thankworthy',\n",
       " 'thenceforth',\n",
       " 'thitherward',\n",
       " 'threatening',\n",
       " 'threatenings',\n",
       " 'threshingfloor',\n",
       " 'threshingfloors',\n",
       " 'threshingplace',\n",
       " 'thunderbolts',\n",
       " 'thunderings',\n",
       " 'trademark/copyright',\n",
       " 'traffickers',\n",
       " 'tranquillity',\n",
       " 'transcription',\n",
       " 'transferred',\n",
       " 'transfigured',\n",
       " 'transformed',\n",
       " 'transforming',\n",
       " 'transgressed',\n",
       " 'transgressest',\n",
       " 'transgresseth',\n",
       " 'transgressing',\n",
       " 'transgression',\n",
       " 'transgressions',\n",
       " 'transgressor',\n",
       " 'transgressors',\n",
       " 'translation',\n",
       " 'transparent',\n",
       " 'treacherous',\n",
       " 'treacherously',\n",
       " 'trespassing',\n",
       " 'tribulation',\n",
       " 'tribulations',\n",
       " 'tributaries',\n",
       " 'trucebreakers',\n",
       " 'turtledoves',\n",
       " 'unaccustomed',\n",
       " 'unadvisedly',\n",
       " 'unbelievers',\n",
       " 'unbelieving',\n",
       " 'unblameable',\n",
       " 'unblameably',\n",
       " 'uncertainly',\n",
       " 'unchangeable',\n",
       " 'uncircumcised',\n",
       " 'uncircumcision',\n",
       " 'uncleanness',\n",
       " 'uncleannesses',\n",
       " 'uncondemned',\n",
       " 'uncorruptible',\n",
       " 'uncorruptness',\n",
       " 'undergirding',\n",
       " 'undersetters',\n",
       " 'understandest',\n",
       " 'understandeth',\n",
       " 'understanding',\n",
       " 'unenforceability',\n",
       " 'unfaithfully',\n",
       " 'ungodliness',\n",
       " 'unprofitable',\n",
       " 'unprofitableness',\n",
       " 'unquenchable',\n",
       " 'unreasonable',\n",
       " 'unrebukable',\n",
       " 'unreproveable',\n",
       " 'unrighteous',\n",
       " 'unrighteously',\n",
       " 'unrighteousness',\n",
       " 'unsearchable',\n",
       " 'unsolicited',\n",
       " 'unspeakable',\n",
       " 'unwittingly',\n",
       " 'uprightness',\n",
       " 'variableness',\n",
       " 'vinedressers',\n",
       " 'voluntarily',\n",
       " 'watercourse',\n",
       " 'waterspouts',\n",
       " 'watersprings',\n",
       " 'well-beloved',\n",
       " 'wellbeloved',\n",
       " 'wellfavoured',\n",
       " 'wellpleasing',\n",
       " 'whereinsoever',\n",
       " 'wheresoever',\n",
       " 'whisperings',\n",
       " 'whithersoever',\n",
       " 'whoremonger',\n",
       " 'whoremongers',\n",
       " ...]"
      ]
     },
     "execution_count": 245,
     "metadata": {},
     "output_type": "execute_result"
    }
   ],
   "source": [
    "vocab = set(text)\n",
    "\n",
    "# search for words longer than 10 characters \n",
    "long_words = [w for w in vocab if len(w) >10]\n",
    "sorted(long_words)"
   ]
  },
  {
   "cell_type": "code",
   "execution_count": 246,
   "metadata": {},
   "outputs": [
    {
     "data": {
      "text/plain": [
       "1019"
      ]
     },
     "execution_count": 246,
     "metadata": {},
     "output_type": "execute_result"
    }
   ],
   "source": [
    "len(long_words)"
   ]
  },
  {
   "cell_type": "markdown",
   "metadata": {},
   "source": [
    "## more on Frequency Distributions"
   ]
  },
  {
   "cell_type": "code",
   "execution_count": 253,
   "metadata": {},
   "outputs": [
    {
     "name": "stdout",
     "output_type": "stream",
     "text": [
      "<FreqDist with 22 samples and 952341 outcomes>\n"
     ]
    }
   ],
   "source": [
    "freq_dist1 = FreqDist(len(w) for w in text)\n",
    "\n",
    "len(freq_dist1) # 22 samples\n",
    "\n",
    "print(freq_dist1)"
   ]
  },
  {
   "cell_type": "code",
   "execution_count": 254,
   "metadata": {},
   "outputs": [
    {
     "data": {
      "text/plain": [
       "3"
      ]
     },
     "execution_count": 254,
     "metadata": {},
     "output_type": "execute_result"
    }
   ],
   "source": [
    "freq_dist1.max()"
   ]
  },
  {
   "cell_type": "code",
   "execution_count": 258,
   "metadata": {},
   "outputs": [
    {
     "name": "stdout",
     "output_type": "stream",
     "text": [
      "word frequency: word length of 3 is 23.78%\n"
     ]
    }
   ],
   "source": [
    "# to quickly get the word frequency for word length of 3\n",
    "t = freq_dist1.freq(3)\n",
    "print(\"word frequency: word length of 3 is {:.2f}%\".format(t*100))"
   ]
  },
  {
   "cell_type": "code",
   "execution_count": 259,
   "metadata": {},
   "outputs": [
    {
     "name": "stdout",
     "output_type": "stream",
     "text": [
      "word frequency: word length of 13 is 0.09%\n"
     ]
    }
   ],
   "source": [
    "# to quickly get the word frequency for word length of 3\n",
    "t = freq_dist1.freq(13)\n",
    "print(\"word frequency: word length of 13 is {:.2f}%\".format(t*100))"
   ]
  },
  {
   "cell_type": "code",
   "execution_count": 260,
   "metadata": {},
   "outputs": [
    {
     "name": "stdout",
     "output_type": "stream",
     "text": [
      "word frequency: word length of 8 is 2.62%\n"
     ]
    }
   ],
   "source": [
    "# to quickly get the word frequency for word length of 3\n",
    "t = freq_dist1.freq(8)\n",
    "print(\"word frequency: word length of 8 is {:.2f}%\".format(t*100))"
   ]
  },
  {
   "cell_type": "markdown",
   "metadata": {},
   "source": [
    "## Plot the word frequencies"
   ]
  },
  {
   "cell_type": "code",
   "execution_count": 262,
   "metadata": {},
   "outputs": [
    {
     "data": {
      "image/png": "[encoded data removed]",
      "text/plain": [
       "<Figure size 432x288 with 1 Axes>"
      ]
     },
     "metadata": {},
     "output_type": "display_data"
    },
    {
     "data": {
      "text/plain": [
       "<AxesSubplot:xlabel='Samples', ylabel='Counts'>"
      ]
     },
     "execution_count": 262,
     "metadata": {},
     "output_type": "execute_result"
    }
   ],
   "source": [
    "freq_dist1.plot()"
   ]
  },
  {
   "cell_type": "code",
   "execution_count": null,
   "metadata": {},
   "outputs": [],
   "source": []
  }
 ],
 "metadata": {
  "kernelspec": {
   "display_name": "Python 3",
   "language": "python",
   "name": "python3"
  },
  "language_info": {
   "codemirror_mode": {
    "name": "ipython",
    "version": 3
   },
   "file_extension": ".py",
   "mimetype": "text/x-python",
   "name": "python",
   "nbconvert_exporter": "python",
   "pygments_lexer": "ipython3",
   "version": "3.7.4"
  }
 },
 "nbformat": 4,
 "nbformat_minor": 2
}
